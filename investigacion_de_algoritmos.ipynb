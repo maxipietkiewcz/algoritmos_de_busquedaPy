{
 "cells": [
  {
   "cell_type": "markdown",
   "metadata": {},
   "source": [
    "# Investigación de Algoritmos de Búsqueda\n",
    "## Búsqueda Lineal y Búsqueda Binaria\n",
    "\n",
    "#### Introducción\n",
    "El objetivo de esta tarea es investigar y comprender los algoritmos de búsqueda lineal y búsqueda binaria, implementarlos en Python, y comparar su eficiencia en términos de tiempo de ejecución. A continuación, se detalla el proceso de investigación, implementación y evaluación.\n",
    "\n",
    "#### Teoria\n",
    "\n",
    "1. Busqueda lineal \n",
    "\n",
    "- Descripcion: La búsqueda lineal revisa cada elemento de la lista de manera secuencial hasta encontrar el valor objetivo o hasta que todos los elementos hayan sido revisados.\n",
    "- Requsitos: Se puede aplicar a cualquier lista, ya que no requiere que la lista esté ordenada.\n",
    "- Complejidad: O(n), donde n es el número de elementos en la lista.\n",
    "\n",
    "2. Busqueda binaria\n",
    "\n",
    "- Descripcion: La búsqueda binaria divide la lista ordenada en mitades para reducir el número de elementos a buscar, comparando el elemento central con el valor objetivo.\n",
    "- Requisitos: La lista debe estar ordenada previamente\n",
    "- Complejidad: O(log n), donde n es el número de elementos en la lista.\n",
    "\n",
    "#### Para tener en cuenta\n",
    "\n",
    "- O(n): Tiempo de ejecución crece linealmente con el tamaño de la entrada. \n",
    "\n",
    "- O(log n): Tiempo de ejecución crece logarítmicamente con el tamaño de la entrada. \n",
    "\n",
    "Esta diferencia es especialmente significativa con listas grandes, donde O(log n) puede ser mucho más eficiente que O(n).\n",
    "\n",
    "#### Lo llevamos a PYTHON\n",
    "\n",
    "1. Creamos una función que implementa la búsqueda lineal. Recorre la lista elemento por elemento hasta encontrar el objetivo y devuelve su índice."
   ]
  },
  {
   "cell_type": "code",
   "execution_count": null,
   "metadata": {},
   "outputs": [],
   "source": [
    "def busqueda_lineal(lista, objetivo):\n",
    "    # Recorre cada elemento de la lista\n",
    "    for indice, elemento in enumerate(lista):\n",
    "        # Si encuentra el objetivo, devuelve su índice\n",
    "        if elemento == objetivo:\n",
    "            return indice\n",
    "    # Si no encuentra el objetivo, devuelve -1\n",
    "    return -1"
   ]
  },
  {
   "cell_type": "markdown",
   "metadata": {},
   "source": [
    "2. Creamos otra función donde se implementa la búsqueda binaria en una lista ordenada. Divide la lista repetidamente en mitades para encontrar el objetivo, devolviendo su índice si lo encuentra."
   ]
  },
  {
   "cell_type": "code",
   "execution_count": null,
   "metadata": {},
   "outputs": [],
   "source": [
    "def busqueda_binaria(lista, objetivo):\n",
    "    # Ordenar la lista si no está ordenada\n",
    "    lista.sort()\n",
    "    \n",
    "    # Inicializar los índices bajo y alto\n",
    "    bajo = 0\n",
    "    alto = len(lista) - 1\n",
    "    \n",
    "    # Bucle mientras bajo sea menor o igual a alto\n",
    "    while bajo <= alto:\n",
    "        # Calcular el índice medio\n",
    "        medio = (bajo + alto) // 2\n",
    "        \n",
    "        # Si el objetivo está en el índice medio, devolver medio\n",
    "        if lista[medio] == objetivo:\n",
    "            return medio\n",
    "        # Si el objetivo es mayor que el elemento medio, buscar en la mitad derecha\n",
    "        elif lista[medio] < objetivo:\n",
    "            bajo = medio + 1\n",
    "        # Si el objetivo es menor que el elemento medio, buscar en la mitad izquierda\n",
    "        else:\n",
    "            alto = medio - 1\n",
    "    \n",
    "    # Si el objetivo no se encuentra en la lista, devolver -1\n",
    "    return -1\n"
   ]
  },
  {
   "cell_type": "markdown",
   "metadata": {},
   "source": [
    "3. Este bloque de código prueba y compara los tiempos de ejecución de las funciones de búsqueda lineal y búsqueda binaria en una lista de ejemplo, midiendo el tiempo que tarda cada una en encontrar un objetivo específico."
   ]
  },
  {
   "cell_type": "code",
   "execution_count": null,
   "metadata": {},
   "outputs": [],
   "source": [
    "if __name__ == \"__main__\":\n",
    "    # Importar el módulo time para medir tiempos de ejecución\n",
    "    import time\n",
    "\n",
    "    # Definir una lista de ejemplo\n",
    "    lista = [1, 3, 5, 7, 9, 11, 13, 15, 17, 19]\n",
    "\n",
    "    # Definir el valor objetivo a buscar\n",
    "    objetivo = 19\n",
    "\n",
    "    # Prueba Búsqueda Lineal\n",
    "    start_time = time.time()  # Registrar el tiempo de inicio\n",
    "    resultado_lineal = busqueda_lineal(lista, objetivo)  # Ejecutar la búsqueda lineal\n",
    "    end_time = time.time()  # Registrar el tiempo de fin\n",
    "    tiempo_lineal = end_time - start_time  # Calcular el tiempo de ejecución\n",
    "    # Imprimir el resultado y el tiempo de ejecución de la búsqueda lineal\n",
    "    print(f\"Búsqueda Lineal: índice {resultado_lineal}, tiempo {tiempo_lineal:.6f} segundos\")\n",
    "\n",
    "    # Prueba Búsqueda Binaria\n",
    "    start_time = time.time()  # Registrar el tiempo de inicio\n",
    "    resultado_binario = busqueda_binaria(lista, objetivo)  # Ejecutar la búsqueda binaria\n",
    "    end_time = time.time()  # Registrar el tiempo de fin\n",
    "    tiempo_binario = end_time - start_time  # Calcular el tiempo de ejecución\n",
    "    # Imprimir el resultado y el tiempo de ejecución de la búsqueda binaria\n",
    "    print(f\"Búsqueda Binaria: índice {resultado_binario}, tiempo {tiempo_binario:.6f} segundos\")\n"
   ]
  },
  {
   "cell_type": "markdown",
   "metadata": {},
   "source": [
    "#### Conclusion\n",
    "\n",
    "- Ambas funciones, busqueda_lineal y busqueda_binaria, encuentran correctamente el índice del objetivo en la lista. Las pruebas realizadas muestran que los tiempos de ejecución de ambas búsquedas son similares en este caso. Sin embargo, es importante destacar que, aunque los tiempos de ejecución son similares para listas pequeñas, la búsqueda binaria es generalmente más eficiente para listas grandes debido a su complejidad O(log n) comparada con la complejidad O(n) de la búsqueda lineal."
   ]
  }
 ],
 "metadata": {
  "kernelspec": {
   "display_name": "Python 3",
   "language": "python",
   "name": "python3"
  },
  "language_info": {
   "name": "python",
   "version": "3.12.2"
  }
 },
 "nbformat": 4,
 "nbformat_minor": 2
}
